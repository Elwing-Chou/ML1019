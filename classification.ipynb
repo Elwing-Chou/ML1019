{
 "cells": [
  {
   "cell_type": "markdown",
   "metadata": {
    "collapsed": true
   },
   "source": [
    "# 分類\n",
    "\n",
    "## 對象\n",
    "\n",
    "鳶尾花\n",
    "\n",
    "![](https://ichef.bbci.co.uk/news/912/cpsprodpb/14202/production/_108243428_gettyimages-871148930.jpg)\n",
    "\n",
    "[請點我](https://www.google.com)\n",
    "\n",
    "$ Area = \\frac {1}{2} \\times \\pi r^2 $"
   ]
  },
  {
   "cell_type": "code",
   "execution_count": null,
   "metadata": {},
   "outputs": [],
   "source": []
  }
 ],
 "metadata": {
  "kernelspec": {
   "display_name": "py36default",
   "language": "python",
   "name": "py36default"
  },
  "language_info": {
   "codemirror_mode": {
    "name": "ipython",
    "version": 3
   },
   "file_extension": ".py",
   "mimetype": "text/x-python",
   "name": "python",
   "nbconvert_exporter": "python",
   "pygments_lexer": "ipython3",
   "version": "3.6.0"
  }
 },
 "nbformat": 4,
 "nbformat_minor": 1
}
